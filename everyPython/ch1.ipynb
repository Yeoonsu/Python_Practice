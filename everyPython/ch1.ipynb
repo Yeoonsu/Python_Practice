{
 "cells": [
  {
   "cell_type": "code",
   "execution_count": 1,
   "metadata": {},
   "outputs": [
    {
     "name": "stdout",
     "output_type": "stream",
     "text": [
      "5\n",
      "3\n",
      "\n",
      "5.0\n",
      "3.0\n"
     ]
    }
   ],
   "source": [
    "# 절댓값 구하기 알고리즘\n",
    "\n",
    "import math\n",
    "\n",
    "def abs_sign(a):\n",
    "    if a >= 0:\n",
    "        return a\n",
    "    else:\n",
    "        return -a\n",
    "\n",
    "def abs_square(a):\n",
    "    b = a*a\n",
    "    return math.sqrt(b)\n",
    "\n",
    "print(abs_sign(5))\n",
    "print(abs_sign(-3))\n",
    "print()\n",
    "print(abs_square(5))\n",
    "print(abs_square(-3))\n"
   ]
  },
  {
   "cell_type": "code",
   "execution_count": 2,
   "metadata": {},
   "outputs": [
    {
     "name": "stdout",
     "output_type": "stream",
     "text": [
      "55\n",
      "5050\n"
     ]
    }
   ],
   "source": [
    "# 1부터 n까지 연속한 숫자의 합을 구하는 알고리즘 1\n",
    "# 입력 : n\n",
    "# 출력 : 1부터 n까지의 숫자를 더한 값\n",
    "\n",
    "def sum_n(n):\n",
    "    s = 0 # 합을 계산할 변수, 0+1을 하는 것이 첫 덧셈이다.\n",
    "    for i in range(1, n+1): # 1부터 n까지 반복 (n+1은 제외)\n",
    "        s = s + i\n",
    "    return s\n",
    "\n",
    "print(sum_n(10))\n",
    "print(sum_n(100))"
   ]
  },
  {
   "cell_type": "code",
   "execution_count": null,
   "metadata": {},
   "outputs": [],
   "source": []
  },
  {
   "cell_type": "code",
   "execution_count": null,
   "metadata": {},
   "outputs": [],
   "source": []
  }
 ],
 "metadata": {
  "kernelspec": {
   "display_name": "Python 3.10.8 64-bit (microsoft store)",
   "language": "python",
   "name": "python3"
  },
  "language_info": {
   "codemirror_mode": {
    "name": "ipython",
    "version": 3
   },
   "file_extension": ".py",
   "mimetype": "text/x-python",
   "name": "python",
   "nbconvert_exporter": "python",
   "pygments_lexer": "ipython3",
   "version": "3.10.8"
  },
  "orig_nbformat": 4,
  "vscode": {
   "interpreter": {
    "hash": "757aa4992fb8ed25d3a96931c0ea3cbac88aa5e1f2d55e5c1a4c08013c8200eb"
   }
  }
 },
 "nbformat": 4,
 "nbformat_minor": 2
}

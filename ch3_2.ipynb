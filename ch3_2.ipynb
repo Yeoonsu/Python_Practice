{
  "nbformat": 4,
  "nbformat_minor": 0,
  "metadata": {
    "colab": {
      "provenance": [],
      "collapsed_sections": [],
      "authorship_tag": "ABX9TyMnDDg7mBUPoAR3YlwzZJva"
    },
    "kernelspec": {
      "name": "python3",
      "display_name": "Python 3"
    },
    "language_info": {
      "name": "python"
    }
  },
  "cells": [
    {
      "cell_type": "code",
      "execution_count": 1,
      "metadata": {
        "id": "AUp2vWrdQ5oq"
      },
      "outputs": [],
      "source": [
        "# 정규표현식\n",
        "import re"
      ]
    },
    {
      "cell_type": "code",
      "source": [
        "example = '이동민 교수님은 다음과 같이 설명했습니다(이동민, 2019). 그런데 다른 교수님은 이 문제에 대해서 다른 견해를 가지고 있었습니다(최재영, 2019). 또 다른 견해도 있었습니다(Lion, 2018)'"
      ],
      "metadata": {
        "id": "a8_qA-9wRtg8"
      },
      "execution_count": 2,
      "outputs": []
    },
    {
      "cell_type": "code",
      "source": [
        "result = re.findall(r'\\([A-Za-z가-힣]+, \\d+\\)', example)"
      ],
      "metadata": {
        "id": "Nop9n3LxR3UN"
      },
      "execution_count": 4,
      "outputs": []
    },
    {
      "cell_type": "code",
      "source": [
        "result"
      ],
      "metadata": {
        "colab": {
          "base_uri": "https://localhost:8080/"
        },
        "id": "1s9CLnf3SABj",
        "outputId": "8545bac6-50e8-4820-a9fd-36a71fdfa19b"
      },
      "execution_count": 5,
      "outputs": [
        {
          "output_type": "execute_result",
          "data": {
            "text/plain": [
              "['(이동민, 2019)', '(최재영, 2019)', '(Lion, 2018)']"
            ]
          },
          "metadata": {},
          "execution_count": 5
        }
      ]
    },
    {
      "cell_type": "code",
      "source": [
        "pattern = r'life'"
      ],
      "metadata": {
        "id": "Ap7-9IkOSHiM"
      },
      "execution_count": 6,
      "outputs": []
    },
    {
      "cell_type": "code",
      "source": [
        "script = 'life'"
      ],
      "metadata": {
        "id": "VgqJLj8zSxY0"
      },
      "execution_count": 7,
      "outputs": []
    },
    {
      "cell_type": "code",
      "source": [
        "re.match(pattern, script)"
      ],
      "metadata": {
        "colab": {
          "base_uri": "https://localhost:8080/"
        },
        "id": "66KJdTstSyjt",
        "outputId": "21973c6f-16c9-45f9-e178-af17d166e335"
      },
      "execution_count": 8,
      "outputs": [
        {
          "output_type": "execute_result",
          "data": {
            "text/plain": [
              "<re.Match object; span=(0, 4), match='life'>"
            ]
          },
          "metadata": {},
          "execution_count": 8
        }
      ]
    },
    {
      "cell_type": "code",
      "source": [
        "re.match(pattern, script).group()"
      ],
      "metadata": {
        "colab": {
          "base_uri": "https://localhost:8080/",
          "height": 35
        },
        "id": "KKQXKHBTS0g5",
        "outputId": "9f1faa5b-580b-43f2-dc2b-4c4b7ab905ab"
      },
      "execution_count": 9,
      "outputs": [
        {
          "output_type": "execute_result",
          "data": {
            "text/plain": [
              "'life'"
            ],
            "application/vnd.google.colaboratory.intrinsic+json": {
              "type": "string"
            }
          },
          "metadata": {},
          "execution_count": 9
        }
      ]
    },
    {
      "cell_type": "code",
      "source": [
        "re.match(r'life', 'life').group()"
      ],
      "metadata": {
        "colab": {
          "base_uri": "https://localhost:8080/",
          "height": 35
        },
        "id": "fEBWQudNS4_Y",
        "outputId": "753579ce-2507-4852-e0dd-79ba37a98b90"
      },
      "execution_count": 10,
      "outputs": [
        {
          "output_type": "execute_result",
          "data": {
            "text/plain": [
              "'life'"
            ],
            "application/vnd.google.colaboratory.intrinsic+json": {
              "type": "string"
            }
          },
          "metadata": {},
          "execution_count": 10
        }
      ]
    },
    {
      "cell_type": "code",
      "source": [
        "re.match(r'life', 'animal').group()"
      ],
      "metadata": {
        "colab": {
          "base_uri": "https://localhost:8080/",
          "height": 172
        },
        "id": "FR35TCH6S8BN",
        "outputId": "1a7f10c0-a3d8-423c-95b5-3aa5fa66d136"
      },
      "execution_count": 11,
      "outputs": [
        {
          "output_type": "error",
          "ename": "AttributeError",
          "evalue": "ignored",
          "traceback": [
            "\u001b[0;31m---------------------------------------------------------------------------\u001b[0m",
            "\u001b[0;31mAttributeError\u001b[0m                            Traceback (most recent call last)",
            "\u001b[0;32m<ipython-input-11-694ca64726a2>\u001b[0m in \u001b[0;36m<module>\u001b[0;34m\u001b[0m\n\u001b[0;32m----> 1\u001b[0;31m \u001b[0mre\u001b[0m\u001b[0;34m.\u001b[0m\u001b[0mmatch\u001b[0m\u001b[0;34m(\u001b[0m\u001b[0;34mr'life'\u001b[0m\u001b[0;34m,\u001b[0m \u001b[0;34m'animal'\u001b[0m\u001b[0;34m)\u001b[0m\u001b[0;34m.\u001b[0m\u001b[0mgroup\u001b[0m\u001b[0;34m(\u001b[0m\u001b[0;34m)\u001b[0m\u001b[0;34m\u001b[0m\u001b[0;34m\u001b[0m\u001b[0m\n\u001b[0m",
            "\u001b[0;31mAttributeError\u001b[0m: 'NoneType' object has no attribute 'group'"
          ]
        }
      ]
    },
    {
      "cell_type": "code",
      "source": [
        "def refinder(pattern, script):\n",
        "  if re.match(pattern, script):\n",
        "    print('Match!')\n",
        "  else:\n",
        "    print('Not a match!')"
      ],
      "metadata": {
        "id": "StyYHzoLTAYH"
      },
      "execution_count": 12,
      "outputs": []
    },
    {
      "cell_type": "code",
      "source": [
        "pattern = r'Life'"
      ],
      "metadata": {
        "id": "qPz_aSbsTNY6"
      },
      "execution_count": 13,
      "outputs": []
    },
    {
      "cell_type": "code",
      "source": [
        "script = 'Life is so cool'"
      ],
      "metadata": {
        "id": "tPtEu0qsTYYc"
      },
      "execution_count": 14,
      "outputs": []
    },
    {
      "cell_type": "code",
      "source": [
        "refinder(pattern, script)"
      ],
      "metadata": {
        "colab": {
          "base_uri": "https://localhost:8080/"
        },
        "id": "x6l9UQGxTbD3",
        "outputId": "4e0c6308-d0c1-4a0a-ee5b-50ff18e7a7ac"
      },
      "execution_count": 15,
      "outputs": [
        {
          "output_type": "stream",
          "name": "stdout",
          "text": [
            "Match!\n"
          ]
        }
      ]
    },
    {
      "cell_type": "code",
      "source": [
        "pattern = r'life'"
      ],
      "metadata": {
        "id": "OLufrF_OTc1A"
      },
      "execution_count": 16,
      "outputs": []
    },
    {
      "cell_type": "code",
      "source": [
        "script = 'Life is so cool'"
      ],
      "metadata": {
        "id": "OwYPwS_tTexj"
      },
      "execution_count": 17,
      "outputs": []
    },
    {
      "cell_type": "code",
      "source": [
        "refinder(pattern, script)"
      ],
      "metadata": {
        "colab": {
          "base_uri": "https://localhost:8080/"
        },
        "id": "7D59FrJDTgcU",
        "outputId": "eb2b5ca7-1c33-4567-c3d2-5d4b2b83935a"
      },
      "execution_count": 18,
      "outputs": [
        {
          "output_type": "stream",
          "name": "stdout",
          "text": [
            "Not a match!\n"
          ]
        }
      ]
    },
    {
      "cell_type": "code",
      "source": [
        "# match는 대문자와 소문자를 구분한다"
      ],
      "metadata": {
        "id": "BMUGscZrTiIa"
      },
      "execution_count": 19,
      "outputs": []
    },
    {
      "cell_type": "code",
      "source": [
        "pattern = r'is'\n",
        "script = 'Life is so cool'\n",
        "refinder(pattern, script)"
      ],
      "metadata": {
        "colab": {
          "base_uri": "https://localhost:8080/"
        },
        "id": "9JEL-y-aTmnJ",
        "outputId": "da0276bc-bb06-48f2-a936-47e36989ab5a"
      },
      "execution_count": 20,
      "outputs": [
        {
          "output_type": "stream",
          "name": "stdout",
          "text": [
            "Not a match!\n"
          ]
        }
      ]
    },
    {
      "cell_type": "code",
      "source": [
        "# match가 문자열의 시작부터 매칭되는지 찾는 함수이기 때문에 텍스트 중간에 있는 패턴을 찾지 못한다."
      ],
      "metadata": {
        "id": "kdl8c-3pTsH5"
      },
      "execution_count": 21,
      "outputs": []
    },
    {
      "cell_type": "code",
      "source": [
        "re.search(pattern, script).group() # script에서 패턴(r'is')을 찾아 반환하세요"
      ],
      "metadata": {
        "colab": {
          "base_uri": "https://localhost:8080/",
          "height": 35
        },
        "id": "iY2X0g7PTwat",
        "outputId": "07b26dbe-4c93-4407-9f2d-0ea1b1d68529"
      },
      "execution_count": 22,
      "outputs": [
        {
          "output_type": "execute_result",
          "data": {
            "text/plain": [
              "'is'"
            ],
            "application/vnd.google.colaboratory.intrinsic+json": {
              "type": "string"
            }
          },
          "metadata": {},
          "execution_count": 22
        }
      ]
    },
    {
      "cell_type": "code",
      "source": [
        "re.search(r'life', script).group()"
      ],
      "metadata": {
        "colab": {
          "base_uri": "https://localhost:8080/",
          "height": 172
        },
        "id": "Cns_dcX4T3QN",
        "outputId": "ed291b09-b01a-45a1-eaac-3742f59434ed"
      },
      "execution_count": 23,
      "outputs": [
        {
          "output_type": "error",
          "ename": "AttributeError",
          "evalue": "ignored",
          "traceback": [
            "\u001b[0;31m---------------------------------------------------------------------------\u001b[0m",
            "\u001b[0;31mAttributeError\u001b[0m                            Traceback (most recent call last)",
            "\u001b[0;32m<ipython-input-23-e08b283bf308>\u001b[0m in \u001b[0;36m<module>\u001b[0;34m\u001b[0m\n\u001b[0;32m----> 1\u001b[0;31m \u001b[0mre\u001b[0m\u001b[0;34m.\u001b[0m\u001b[0msearch\u001b[0m\u001b[0;34m(\u001b[0m\u001b[0;34mr'life'\u001b[0m\u001b[0;34m,\u001b[0m \u001b[0mscript\u001b[0m\u001b[0;34m)\u001b[0m\u001b[0;34m.\u001b[0m\u001b[0mgroup\u001b[0m\u001b[0;34m(\u001b[0m\u001b[0;34m)\u001b[0m\u001b[0;34m\u001b[0m\u001b[0;34m\u001b[0m\u001b[0m\n\u001b[0m",
            "\u001b[0;31mAttributeError\u001b[0m: 'NoneType' object has no attribute 'group'"
          ]
        }
      ]
    },
    {
      "cell_type": "code",
      "source": [
        "re.search(r'Life', script).group()"
      ],
      "metadata": {
        "colab": {
          "base_uri": "https://localhost:8080/",
          "height": 35
        },
        "id": "DyxpMWw-UDqe",
        "outputId": "dc8fb23d-a5a0-41c1-86e2-122673538ef1"
      },
      "execution_count": 24,
      "outputs": [
        {
          "output_type": "execute_result",
          "data": {
            "text/plain": [
              "'Life'"
            ],
            "application/vnd.google.colaboratory.intrinsic+json": {
              "type": "string"
            }
          },
          "metadata": {},
          "execution_count": 24
        }
      ]
    },
    {
      "cell_type": "code",
      "source": [
        "re.search(r'cool', script).group()"
      ],
      "metadata": {
        "colab": {
          "base_uri": "https://localhost:8080/",
          "height": 35
        },
        "id": "RNM-mBV3UGvy",
        "outputId": "d30328f8-1a95-49c7-8b84-5fb9c47089cd"
      },
      "execution_count": 25,
      "outputs": [
        {
          "output_type": "execute_result",
          "data": {
            "text/plain": [
              "'cool'"
            ],
            "application/vnd.google.colaboratory.intrinsic+json": {
              "type": "string"
            }
          },
          "metadata": {},
          "execution_count": 25
        }
      ]
    },
    {
      "cell_type": "code",
      "source": [
        "re.match(r'cool', script).group()"
      ],
      "metadata": {
        "colab": {
          "base_uri": "https://localhost:8080/",
          "height": 172
        },
        "id": "yibrShgvUJEz",
        "outputId": "72b3ccee-8059-4f3d-bdd5-99a3ec731cb5"
      },
      "execution_count": 26,
      "outputs": [
        {
          "output_type": "error",
          "ename": "AttributeError",
          "evalue": "ignored",
          "traceback": [
            "\u001b[0;31m---------------------------------------------------------------------------\u001b[0m",
            "\u001b[0;31mAttributeError\u001b[0m                            Traceback (most recent call last)",
            "\u001b[0;32m<ipython-input-26-0e27550d3c7b>\u001b[0m in \u001b[0;36m<module>\u001b[0;34m\u001b[0m\n\u001b[0;32m----> 1\u001b[0;31m \u001b[0mre\u001b[0m\u001b[0;34m.\u001b[0m\u001b[0mmatch\u001b[0m\u001b[0;34m(\u001b[0m\u001b[0;34mr'cool'\u001b[0m\u001b[0;34m,\u001b[0m \u001b[0mscript\u001b[0m\u001b[0;34m)\u001b[0m\u001b[0;34m.\u001b[0m\u001b[0mgroup\u001b[0m\u001b[0;34m(\u001b[0m\u001b[0;34m)\u001b[0m\u001b[0;34m\u001b[0m\u001b[0;34m\u001b[0m\u001b[0m\n\u001b[0m",
            "\u001b[0;31mAttributeError\u001b[0m: 'NoneType' object has no attribute 'group'"
          ]
        }
      ]
    },
    {
      "cell_type": "code",
      "source": [
        "re.match(r'Life', script).group()"
      ],
      "metadata": {
        "colab": {
          "base_uri": "https://localhost:8080/",
          "height": 35
        },
        "id": "ZVlyqYtMUO0Q",
        "outputId": "709492bb-3bde-4f58-a36e-c9a7363537e9"
      },
      "execution_count": 27,
      "outputs": [
        {
          "output_type": "execute_result",
          "data": {
            "text/plain": [
              "'Life'"
            ],
            "application/vnd.google.colaboratory.intrinsic+json": {
              "type": "string"
            }
          },
          "metadata": {},
          "execution_count": 27
        }
      ]
    },
    {
      "cell_type": "code",
      "source": [
        "# findall : 특정 패턴을 문자열에서 모두 찾아서 리스트 형태로 반환한다\n",
        "# search 문이나 match 문은 제대로 찾았는지 확인하는 절차가 따로 필요한 반면, findall로 찾으면 결괏값이 빈 리스트([])로 나온다는 점에서 유용하다.\n",
        "number = 'My number is 511233-1****** and yours is 521012-2******'\n",
        "re.findall('\\d{6}', number) # '\\d{6}' 패턴은 숫자를 여섯 번 반복한 값을 의미합니다"
      ],
      "metadata": {
        "colab": {
          "base_uri": "https://localhost:8080/"
        },
        "id": "saCxNZcdUTLO",
        "outputId": "aa3a341b-5a42-44fc-a61c-63c884ef7405"
      },
      "execution_count": 28,
      "outputs": [
        {
          "output_type": "execute_result",
          "data": {
            "text/plain": [
              "['511233', '521012']"
            ]
          },
          "metadata": {},
          "execution_count": 28
        }
      ]
    },
    {
      "cell_type": "code",
      "source": [
        "# r을 입력하면 그 뒤에 나오는 문자열에 들어있는 문자를 탈출 문자(/d, /t 등등)가 아니라, 일반 문자로 인식함."
      ],
      "metadata": {
        "id": "n4I9bZmEVPb9"
      },
      "execution_count": 29,
      "outputs": []
    },
    {
      "cell_type": "code",
      "source": [
        "example1 = '저는 91년에 태어났습니다. 97년에는 IMF가 있었습니다. 지금은 2020년입니다.'\n",
        "# 먼저 exmaple1이라는 객체에 간단한 문장을 입력합니다"
      ],
      "metadata": {
        "id": "abO2dppnVYjV"
      },
      "execution_count": 32,
      "outputs": []
    },
    {
      "cell_type": "code",
      "source": [
        "re.findall(r'\\d.+년', example1)\n",
        "# 숫자(\\d)로 시작하고, 어떤 문자든(.) 반복(+)되며, '년'으로 끝나는 문자열을 반환하라고 명령합니다"
      ],
      "metadata": {
        "colab": {
          "base_uri": "https://localhost:8080/"
        },
        "id": "MqQgBsGYVrOz",
        "outputId": "b0677c5c-1618-42b0-b779-696f5e08c627"
      },
      "execution_count": 34,
      "outputs": [
        {
          "output_type": "execute_result",
          "data": {
            "text/plain": [
              "['91년에 태어났습니다. 97년에는 IMF가 있었습니다. 지금은 2020년']"
            ]
          },
          "metadata": {},
          "execution_count": 34
        }
      ]
    },
    {
      "cell_type": "code",
      "source": [
        "# 문장의 맨 앞의 숫자부터 맨 뒤의 '년'사이 모든 문자를 반환해버립니다"
      ],
      "metadata": {
        "id": "4FA68n8SWuXX"
      },
      "execution_count": 36,
      "outputs": []
    },
    {
      "cell_type": "code",
      "source": [
        "re.findall(r'\\d.+?년', example1) # '년'이라는 글자를 찾으면 패턴 찾기를 멈춥니다"
      ],
      "metadata": {
        "colab": {
          "base_uri": "https://localhost:8080/"
        },
        "id": "FhD89p4bW2fe",
        "outputId": "c1eeb0b7-f62b-4507-d040-852b50ac15a3"
      },
      "execution_count": 37,
      "outputs": [
        {
          "output_type": "execute_result",
          "data": {
            "text/plain": [
              "['91년', '97년', '2020년']"
            ]
          },
          "metadata": {},
          "execution_count": 37
        }
      ]
    },
    {
      "cell_type": "code",
      "source": [
        "re.findall(r'\\d+.년', example1) # 숫자를 반복시킨 후 '년'으로 끝나는 문자를 찾아도 됩니다"
      ],
      "metadata": {
        "colab": {
          "base_uri": "https://localhost:8080/"
        },
        "id": "VqqDOrCLXQS8",
        "outputId": "5578cb58-b829-4a76-b471-685cc3ddefca"
      },
      "execution_count": 38,
      "outputs": [
        {
          "output_type": "execute_result",
          "data": {
            "text/plain": [
              "['91년', '97년', '2020년']"
            ]
          },
          "metadata": {},
          "execution_count": 38
        }
      ]
    },
    {
      "cell_type": "code",
      "source": [
        "example = '이동민 교수님은 다음과 같이 설명했습니다(이동민, 2019). 그런데 다른 교수님은 이 문제에 대해서 다른 견해를 가지고 있었습니다(최재영, 2019). 또 다른 견해도 있었습니다(Lion, 2018)'"
      ],
      "metadata": {
        "id": "3oyspJR2Xci1"
      },
      "execution_count": 39,
      "outputs": []
    },
    {
      "cell_type": "code",
      "source": [
        "result = re.findall(r'\\(.+\\)', example)"
      ],
      "metadata": {
        "id": "t2xFXLycXfOX"
      },
      "execution_count": 42,
      "outputs": []
    },
    {
      "cell_type": "code",
      "source": [
        "# 앞에 \\를 안 붙이면 문자로 인식되지 않으니 주의하세요"
      ],
      "metadata": {
        "id": "6HhQ9GG4YDRo"
      },
      "execution_count": 43,
      "outputs": []
    },
    {
      "cell_type": "code",
      "source": [
        "result"
      ],
      "metadata": {
        "colab": {
          "base_uri": "https://localhost:8080/"
        },
        "id": "SXhXPcWjYMfg",
        "outputId": "e62ea4aa-8a54-43ad-9a96-7e21ae371a88"
      },
      "execution_count": 44,
      "outputs": [
        {
          "output_type": "execute_result",
          "data": {
            "text/plain": [
              "['(이동민, 2019). 그런데 다른 교수님은 이 문제에 대해서 다른 견해를 가지고 있었습니다(최재영, 2019). 또 다른 견해도 있었습니다(Lion, 2018)']"
            ]
          },
          "metadata": {},
          "execution_count": 44
        }
      ]
    },
    {
      "cell_type": "code",
      "source": [
        "result = re.findall(r'\\(.+?\\)', example) # 닫는 괄호 앞에 ?를 달아줍니다."
      ],
      "metadata": {
        "id": "vBowZ7YLYM_Q"
      },
      "execution_count": 45,
      "outputs": []
    },
    {
      "cell_type": "code",
      "source": [
        "result"
      ],
      "metadata": {
        "colab": {
          "base_uri": "https://localhost:8080/"
        },
        "id": "Keri5qVLZ-JS",
        "outputId": "13f90d03-9a45-4e96-f2c3-0b9a82f14d3f"
      },
      "execution_count": 46,
      "outputs": [
        {
          "output_type": "execute_result",
          "data": {
            "text/plain": [
              "['(이동민, 2019)', '(최재영, 2019)', '(Lion, 2018)']"
            ]
          },
          "metadata": {},
          "execution_count": 46
        }
      ]
    },
    {
      "cell_type": "code",
      "source": [
        "# 제대로 검색되었네요!"
      ],
      "metadata": {
        "id": "_fkmYxyMZ-8C"
      },
      "execution_count": null,
      "outputs": []
    }
  ]
}
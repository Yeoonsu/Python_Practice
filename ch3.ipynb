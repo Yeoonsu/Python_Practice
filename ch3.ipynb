{
  "nbformat": 4,
  "nbformat_minor": 0,
  "metadata": {
    "colab": {
      "provenance": [],
      "authorship_tag": "ABX9TyPm5J+V62jnFKOV8jAVpyqV"
    },
    "kernelspec": {
      "name": "python3",
      "display_name": "Python 3"
    },
    "language_info": {
      "name": "python"
    }
  },
  "cells": [
    {
      "cell_type": "code",
      "execution_count": 1,
      "metadata": {
        "id": "nBOcizrwF64j"
      },
      "outputs": [],
      "source": [
        "import os, re"
      ]
    },
    {
      "cell_type": "code",
      "source": [
        "sentence = 'I have a lovely dog, really. I am not telling a lie. what a pretty dog! I love this dog'"
      ],
      "metadata": {
        "id": "1Q628QMBF975"
      },
      "execution_count": 2,
      "outputs": []
    },
    {
      "cell_type": "code",
      "source": [
        "re.split(r'[.?!]', sentence)"
      ],
      "metadata": {
        "colab": {
          "base_uri": "https://localhost:8080/"
        },
        "id": "4fr3WelEGUIy",
        "outputId": "c2b83628-df58-4620-ceca-b069dac8f95c"
      },
      "execution_count": 3,
      "outputs": [
        {
          "output_type": "execute_result",
          "data": {
            "text/plain": [
              "['I have a lovely dog, really',\n",
              " ' I am not telling a lie',\n",
              " ' what a pretty dog',\n",
              " ' I love this dog']"
            ]
          },
          "metadata": {},
          "execution_count": 3
        }
      ]
    },
    {
      "cell_type": "code",
      "source": [
        "data = 'a:3; b:4; c:5'"
      ],
      "metadata": {
        "id": "C8TfMl98GXDt"
      },
      "execution_count": 4,
      "outputs": []
    },
    {
      "cell_type": "code",
      "source": [
        "for i in re.split(r';', data): #먼저 세미콜론(;)으로 전체 데이터를 한 번 구분합니다\n",
        "  print(re.split(r':', i)) # 나눠진 데이터를 다시 콜론(:)을 기준으로 나눕니다"
      ],
      "metadata": {
        "colab": {
          "base_uri": "https://localhost:8080/"
        },
        "id": "CluFQ20SGvuA",
        "outputId": "a57d0358-0e55-48c1-a718-0a73f22956cc"
      },
      "execution_count": 5,
      "outputs": [
        {
          "output_type": "stream",
          "name": "stdout",
          "text": [
            "['a', '3']\n",
            "[' b', '4']\n",
            "[' c', '5']\n"
          ]
        }
      ]
    },
    {
      "cell_type": "code",
      "source": [
        "sentence = 'I have a lovely dog, really. I am not telling a lie. What a pretty dog! I love this dog.'"
      ],
      "metadata": {
        "id": "R1c5zw1vG6AL"
      },
      "execution_count": 6,
      "outputs": []
    },
    {
      "cell_type": "code",
      "source": [
        "re.sub(r'dog', 'cat', sentence) # sentence라는 문자열에서 'dog를 'cat'으로 바꾸세요"
      ],
      "metadata": {
        "colab": {
          "base_uri": "https://localhost:8080/",
          "height": 35
        },
        "id": "qCrzu5zVHUj6",
        "outputId": "65f8316e-b422-43b4-ad96-ce428a0c4567"
      },
      "execution_count": 7,
      "outputs": [
        {
          "output_type": "execute_result",
          "data": {
            "text/plain": [
              "'I have a lovely cat, really. I am not telling a lie. What a pretty cat! I love this cat.'"
            ],
            "application/vnd.google.colaboratory.intrinsic+json": {
              "type": "string"
            }
          },
          "metadata": {},
          "execution_count": 7
        }
      ]
    },
    {
      "cell_type": "code",
      "source": [
        "words = 'I am home now. \\n\\n\\nI am with my cat.\\n\\n' # '\\n'은 줄바꿈 문자입니다\n",
        "print(words)"
      ],
      "metadata": {
        "colab": {
          "base_uri": "https://localhost:8080/"
        },
        "id": "TenMxrvvHdpN",
        "outputId": "99297538-c715-41c4-9fdb-0e6d6db949c4"
      },
      "execution_count": 8,
      "outputs": [
        {
          "output_type": "stream",
          "name": "stdout",
          "text": [
            "I am home now. \n",
            "\n",
            "\n",
            "I am with my cat.\n",
            "\n",
            "\n"
          ]
        }
      ]
    },
    {
      "cell_type": "code",
      "source": [
        "re.sub(r'\\n', '', words) # '\\n'은 줄바꿈 문자이다. sub로 불필요한 공백을 삭제할 수 있다."
      ],
      "metadata": {
        "colab": {
          "base_uri": "https://localhost:8080/",
          "height": 35
        },
        "id": "VL767pbrHrlW",
        "outputId": "34a10c32-6382-479e-c007-2c6dd762bb5f"
      },
      "execution_count": 9,
      "outputs": [
        {
          "output_type": "execute_result",
          "data": {
            "text/plain": [
              "'I am home now. I am with my cat.'"
            ],
            "application/vnd.google.colaboratory.intrinsic+json": {
              "type": "string"
            }
          },
          "metadata": {},
          "execution_count": 9
        }
      ]
    },
    {
      "cell_type": "code",
      "source": [
        "# sub는 이렇게 문자열에서 불필요한 내용을 깔끔하게 정리할 때 유용하게 사용할 수 있다."
      ],
      "metadata": {
        "id": "fhTqcHlbHzan"
      },
      "execution_count": 10,
      "outputs": []
    },
    {
      "cell_type": "code",
      "source": [
        "# 'ly'로 끝나는 단어 추출하기"
      ],
      "metadata": {
        "id": "tXDXjfl0IdQ6"
      },
      "execution_count": 11,
      "outputs": []
    },
    {
      "cell_type": "code",
      "source": [
        "sentence = 'I have a lovely dog, really. I am not telling a lie'"
      ],
      "metadata": {
        "id": "vGfELYe5Ifq8"
      },
      "execution_count": 12,
      "outputs": []
    },
    {
      "cell_type": "code",
      "source": [
        "re.findall(r'\\w+ly', sentence)\n",
        "# r'\\w+ly'는 문자나 숫자(\\w)가 몇 번이 나와도 좋으니 반복하고(+), ly로 끝나는 패턴을 의미합니다"
      ],
      "metadata": {
        "colab": {
          "base_uri": "https://localhost:8080/"
        },
        "id": "kaTsVnvDIjZC",
        "outputId": "0dc7ef37-15ca-4eb8-cc16-1b84e1f65881"
      },
      "execution_count": 13,
      "outputs": [
        {
          "output_type": "execute_result",
          "data": {
            "text/plain": [
              "['lovely', 'really']"
            ]
          },
          "metadata": {},
          "execution_count": 13
        }
      ]
    },
    {
      "cell_type": "code",
      "source": [
        "# lovely와 really가 정상적으로 리스트로 반환되었습니다"
      ],
      "metadata": {
        "id": "ZQZT55j0JVvY"
      },
      "execution_count": 14,
      "outputs": []
    },
    {
      "cell_type": "markdown",
      "source": [
        "03-3 드라마 대본 텍스트 파일 가공하기"
      ],
      "metadata": {
        "id": "NeNG600QJbEx"
      }
    },
    {
      "cell_type": "markdown",
      "source": [
        "os.chdir(r'C:\\Users\\user\\python') # friends101.txt 파일을 저장한 폴더로 이동합니다"
      ],
      "metadata": {
        "id": "14jie5uNK6Mk"
      }
    },
    {
      "cell_type": "code",
      "source": [
        "f = open('friends101.txt', 'r', encoding='utf8')"
      ],
      "metadata": {
        "id": "mgEFAotBJY_p"
      },
      "execution_count": 15,
      "outputs": []
    },
    {
      "cell_type": "code",
      "source": [
        "script101 = f.read()"
      ],
      "metadata": {
        "id": "Uxqr3dYuLDPY"
      },
      "execution_count": 16,
      "outputs": []
    },
    {
      "cell_type": "code",
      "source": [
        "print(script101[:100]) # 텍스트 파일에 이상이 없는지 슬라이싱해서 출력"
      ],
      "metadata": {
        "colab": {
          "base_uri": "https://localhost:8080/"
        },
        "id": "BhY5rU0eLN1c",
        "outputId": "311f42ed-f5c9-410c-f86d-4f70910163ac"
      },
      "execution_count": 17,
      "outputs": [
        {
          "output_type": "stream",
          "name": "stdout",
          "text": [
            "The One Where Monica Gets a New Roommate (The Pilot-The Uncut Version)\n",
            "Written by: Marta Kauffman & \n"
          ]
        }
      ]
    },
    {
      "cell_type": "code",
      "source": [
        "# 특정 등장인물의 대사만 모으기\n",
        "Line = re.findall(r'Monica:.+', script101)\n",
        "# 'Monica:' 다음 아무 문자나 반복되는(.+) 패턴을 script101에서 찾아 리스트로 반환합니다"
      ],
      "metadata": {
        "id": "8q6pocj6LTWH"
      },
      "execution_count": 18,
      "outputs": []
    },
    {
      "cell_type": "code",
      "source": [
        "print(Line[:3]) # 리스트로 저장할 때"
      ],
      "metadata": {
        "colab": {
          "base_uri": "https://localhost:8080/"
        },
        "id": "79lv9uTEMN0l",
        "outputId": "82ac4e85-9b87-4a11-f2dd-6c75b98dde19"
      },
      "execution_count": 19,
      "outputs": [
        {
          "output_type": "stream",
          "name": "stdout",
          "text": [
            "[\"Monica: There's nothing to tell! He's just some guy I work with!\", \"Monica: Okay, everybody relax. This is not even a date. It's just two people going out to dinner and- not having sex.\", \"Monica: And they weren't looking at you before?!\"]\n"
          ]
        }
      ]
    },
    {
      "cell_type": "code",
      "source": [
        "for item in Line[:3]:\n",
        "  print(item)\n",
        "  # 결괏값을 보기 위해서 출력할 때 for문 사용"
      ],
      "metadata": {
        "colab": {
          "base_uri": "https://localhost:8080/"
        },
        "id": "4DJWsrNFMT5D",
        "outputId": "f80b53b1-1554-40f7-a38a-d6f852afbded"
      },
      "execution_count": 20,
      "outputs": [
        {
          "output_type": "stream",
          "name": "stdout",
          "text": [
            "Monica: There's nothing to tell! He's just some guy I work with!\n",
            "Monica: Okay, everybody relax. This is not even a date. It's just two people going out to dinner and- not having sex.\n",
            "Monica: And they weren't looking at you before?!\n"
          ]
        }
      ]
    },
    {
      "cell_type": "code",
      "source": [
        "f.close()"
      ],
      "metadata": {
        "id": "6QdolfsMMvN_"
      },
      "execution_count": 21,
      "outputs": []
    },
    {
      "cell_type": "code",
      "source": [
        "f = open('monica.txt', 'w', encoding = 'utf8')\n",
        "# 한국어가 포함되어 있을 경우에 발생할 수 있는 오류를 방지하기 위해 encoding = 'utf8'은 붙여줍니다"
      ],
      "metadata": {
        "id": "Pbtl67IyNj3X"
      },
      "execution_count": 22,
      "outputs": []
    },
    {
      "cell_type": "code",
      "source": [
        "monica = ''"
      ],
      "metadata": {
        "id": "omxU0B-MNp3h"
      },
      "execution_count": 23,
      "outputs": []
    },
    {
      "cell_type": "code",
      "source": [
        "for i in Line:\n",
        "  monica += i # Line 리스트의 원소를 monica 문자열에 추가합니다"
      ],
      "metadata": {
        "id": "XfWpAORxOEdj"
      },
      "execution_count": 24,
      "outputs": []
    },
    {
      "cell_type": "code",
      "source": [
        "f.write(monica)"
      ],
      "metadata": {
        "colab": {
          "base_uri": "https://localhost:8080/"
        },
        "id": "uUl8OgOfOgCT",
        "outputId": "4bae8ce5-7177-4e55-ab0f-1aecc8631a04"
      },
      "execution_count": 25,
      "outputs": [
        {
          "output_type": "execute_result",
          "data": {
            "text/plain": [
              "4542"
            ]
          },
          "metadata": {},
          "execution_count": 25
        }
      ]
    },
    {
      "cell_type": "code",
      "source": [
        "# 파일에 쓴 문자 개수가 출력됩니다"
      ],
      "metadata": {
        "id": "xD7Y_O93OwAb"
      },
      "execution_count": 26,
      "outputs": []
    },
    {
      "cell_type": "code",
      "source": [
        "f.close() # 작업이 끝났으면 파일을 닫는 것 잊지 마세요"
      ],
      "metadata": {
        "id": "_Db_YVPkO0fM"
      },
      "execution_count": 27,
      "outputs": []
    },
    {
      "cell_type": "code",
      "source": [
        "print('다음과 같은 표기로 줄을 바꿀 수 있습니다. \\n이제 줄이 바뀌었군요!')"
      ],
      "metadata": {
        "id": "DnjEKszkO_WI",
        "colab": {
          "base_uri": "https://localhost:8080/"
        },
        "outputId": "9dd95ec2-8c5b-4eb1-a7b1-941e2dd3c4ba"
      },
      "execution_count": 28,
      "outputs": [
        {
          "output_type": "stream",
          "name": "stdout",
          "text": [
            "다음과 같은 표기로 줄을 바꿀 수 있습니다. \n",
            "이제 줄이 바뀌었군요!\n"
          ]
        }
      ]
    },
    {
      "cell_type": "code",
      "source": [
        "monica = '' # 모니카 객체를 다시 선언\n",
        "for i in Line:\n",
        "  monica += i + '\\n' # monica에 저장하는 모든 i값에 '\\n'을 더해 monica에 저장함\n",
        "monica[:100]"
      ],
      "metadata": {
        "colab": {
          "base_uri": "https://localhost:8080/",
          "height": 35
        },
        "id": "XBVPNRDtwbfS",
        "outputId": "4984abec-c192-4da8-deb1-971e340b90a3"
      },
      "execution_count": 29,
      "outputs": [
        {
          "output_type": "execute_result",
          "data": {
            "text/plain": [
              "\"Monica: There's nothing to tell! He's just some guy I work with!\\nMonica: Okay, everybody relax. This\""
            ],
            "application/vnd.google.colaboratory.intrinsic+json": {
              "type": "string"
            }
          },
          "metadata": {},
          "execution_count": 29
        }
      ]
    },
    {
      "cell_type": "code",
      "source": [
        "f = open('monica.txt', 'w', encoding = 'utf-8')"
      ],
      "metadata": {
        "id": "vrfOG1eywvrE"
      },
      "execution_count": 30,
      "outputs": []
    },
    {
      "cell_type": "code",
      "source": [
        "f.write(monica)"
      ],
      "metadata": {
        "colab": {
          "base_uri": "https://localhost:8080/"
        },
        "id": "6giwtKsPw1vy",
        "outputId": "ead0f65c-08fe-498c-9866-69c02014ac51"
      },
      "execution_count": 31,
      "outputs": [
        {
          "output_type": "execute_result",
          "data": {
            "text/plain": [
              "4615"
            ]
          },
          "metadata": {},
          "execution_count": 31
        }
      ]
    },
    {
      "cell_type": "code",
      "source": [
        "f.close()"
      ],
      "metadata": {
        "id": "Yce_h8B-w4hD"
      },
      "execution_count": 32,
      "outputs": []
    },
    {
      "cell_type": "code",
      "source": [
        "char = re.compile(r'[A-Z][a-z]+:') # [A-Z]는 대문자 전체, [a-z]는 소문자 전체를 의미합니다 / re.compile() : 패턴저장"
      ],
      "metadata": {
        "id": "W9Gkygtyw5hi"
      },
      "execution_count": 33,
      "outputs": []
    },
    {
      "cell_type": "code",
      "source": [
        "re.findall(char, script101)"
      ],
      "metadata": {
        "colab": {
          "base_uri": "https://localhost:8080/"
        },
        "id": "_tNO69ttxeaK",
        "outputId": "7840a61f-2a97-440e-befa-243bda0dcf14"
      },
      "execution_count": 34,
      "outputs": [
        {
          "output_type": "execute_result",
          "data": {
            "text/plain": [
              "['Note:',\n",
              " 'Scene:',\n",
              " 'Monica:',\n",
              " 'Joey:',\n",
              " 'Chandler:',\n",
              " 'Phoebe:',\n",
              " 'Phoebe:',\n",
              " 'Monica:',\n",
              " 'Chandler:',\n",
              " 'Chandler:',\n",
              " 'All:',\n",
              " 'Chandler:',\n",
              " 'Joey:',\n",
              " 'Chandler:',\n",
              " 'Joey:',\n",
              " 'Phoebe:',\n",
              " 'Chandler:',\n",
              " 'Monica:',\n",
              " 'Chandler:',\n",
              " 'Ross:',\n",
              " 'Joey:',\n",
              " 'Monica:',\n",
              " 'Ross:',\n",
              " 'Chandler:',\n",
              " 'Monica:',\n",
              " 'Joey:',\n",
              " 'Monica:',\n",
              " 'Ross:',\n",
              " 'Phoebe:',\n",
              " 'Ross:',\n",
              " 'Phoebe:',\n",
              " 'Ross:',\n",
              " 'Monica:',\n",
              " 'Ross:',\n",
              " 'Joey:',\n",
              " 'Ross:',\n",
              " 'Chandler:',\n",
              " 'Ross:',\n",
              " 'Monica:',\n",
              " 'Ross:',\n",
              " 'Joey:',\n",
              " 'Joey:',\n",
              " 'Ross:',\n",
              " 'Chandler:',\n",
              " 'Monica:',\n",
              " 'Rachel:',\n",
              " 'Waitress:',\n",
              " 'Monica:',\n",
              " 'Rachel:',\n",
              " 'Ross:',\n",
              " 'Monica:',\n",
              " 'Rachel:',\n",
              " 'Monica:',\n",
              " 'Rachel:',\n",
              " 'Scene:',\n",
              " 'Monica:',\n",
              " 'Chandler:',\n",
              " 'Ross:',\n",
              " 'Rachel:',\n",
              " 'Phoebe:',\n",
              " 'Chandler:',\n",
              " 'Joey:',\n",
              " 'Joey:',\n",
              " 'Rachel:',\n",
              " 'Ross:',\n",
              " 'Rachel:',\n",
              " 'Monica:',\n",
              " 'Rachel:',\n",
              " 'Monica:',\n",
              " 'Phoebe:',\n",
              " 'Rachel:',\n",
              " 'Phoebe:',\n",
              " 'Monica:',\n",
              " 'Joey:',\n",
              " 'Monica:',\n",
              " 'Joey:',\n",
              " 'Chandler:',\n",
              " 'Paul:',\n",
              " 'Monica:',\n",
              " 'Joey:',\n",
              " 'Ross:',\n",
              " 'Monica:',\n",
              " 'Joey:',\n",
              " 'Ross:',\n",
              " 'Monica:',\n",
              " 'Chandler:',\n",
              " 'Monica:',\n",
              " 'Rachel:',\n",
              " 'Monica:',\n",
              " 'Ross:',\n",
              " 'Monica:',\n",
              " 'Ross:',\n",
              " 'Phoebe:',\n",
              " 'Monica:',\n",
              " 'All:',\n",
              " 'Chandler:',\n",
              " 'Monica:',\n",
              " 'Ross:',\n",
              " 'Monica:',\n",
              " 'Phoebe:',\n",
              " 'Joey:',\n",
              " 'Paul:',\n",
              " 'Joey:',\n",
              " 'Monica:',\n",
              " 'Ross:',\n",
              " 'Rachel:',\n",
              " 'Ross:',\n",
              " 'Chandler:',\n",
              " 'Rachel:',\n",
              " 'Ross:',\n",
              " 'Joey:',\n",
              " 'Phoebe:',\n",
              " 'Scene:',\n",
              " 'Phoebe:',\n",
              " 'Scene:',\n",
              " 'Ross:',\n",
              " 'Joey:',\n",
              " 'Chandler:',\n",
              " 'Joey:',\n",
              " 'Chandler:',\n",
              " 'Joey:',\n",
              " 'Chandler:',\n",
              " 'Joey:',\n",
              " 'Chandler:',\n",
              " 'Ross:',\n",
              " 'Joey:',\n",
              " 'Chandler:',\n",
              " 'Joey:',\n",
              " 'Ross:',\n",
              " 'Chandler:',\n",
              " 'Joey:',\n",
              " 'Chandler:',\n",
              " 'Scene:',\n",
              " 'Monica:',\n",
              " 'Paul:',\n",
              " 'Monica:',\n",
              " 'Paul:',\n",
              " 'Monica:',\n",
              " 'Paul:',\n",
              " 'Monica:',\n",
              " 'Paul:',\n",
              " 'Monica:',\n",
              " 'Scene:',\n",
              " 'Rachel:',\n",
              " 'Scene:',\n",
              " 'Ross:',\n",
              " 'Joey:',\n",
              " 'Chandler:',\n",
              " 'Ross:',\n",
              " 'Chandler:',\n",
              " 'Ross:',\n",
              " 'Joey:',\n",
              " 'Ross:',\n",
              " 'Chandler:',\n",
              " 'Scene:',\n",
              " 'Paul:',\n",
              " 'Monica:',\n",
              " 'Paul:',\n",
              " 'Monica:',\n",
              " 'Paul:',\n",
              " 'Monica:',\n",
              " 'Paul:',\n",
              " 'Monica:',\n",
              " 'Paul:',\n",
              " 'Monica:',\n",
              " 'Paul:',\n",
              " 'Monica:',\n",
              " 'Paul:',\n",
              " 'Monica:',\n",
              " 'Scene:',\n",
              " 'Rachel:',\n",
              " 'Scene:',\n",
              " 'Ross:',\n",
              " 'Joey:',\n",
              " 'Chandler:',\n",
              " 'Joey:',\n",
              " 'Ross:',\n",
              " 'Scene:',\n",
              " 'Rachel:',\n",
              " 'Chandler:',\n",
              " 'Joey:',\n",
              " 'Rachel:',\n",
              " 'Chandler:',\n",
              " 'Joey:',\n",
              " 'Monica:',\n",
              " 'All:',\n",
              " 'Paul:',\n",
              " 'Joey:',\n",
              " 'Rachel:',\n",
              " 'Chandler:',\n",
              " 'Paul:',\n",
              " 'Monica:',\n",
              " 'Paul:',\n",
              " 'Monica:',\n",
              " 'Paul:',\n",
              " 'Joey:',\n",
              " 'Monica:',\n",
              " 'All:',\n",
              " 'Chandler:',\n",
              " 'Rachel:',\n",
              " 'Monica:',\n",
              " 'Joey:',\n",
              " 'Rachel:',\n",
              " 'Joey:',\n",
              " 'Monica:',\n",
              " 'Joey:',\n",
              " 'Chandler:',\n",
              " 'Joey:',\n",
              " 'Chandler:',\n",
              " 'Joey:',\n",
              " 'Monica:',\n",
              " 'Rachel:',\n",
              " 'Monica:',\n",
              " 'Rachel:',\n",
              " 'Monica:',\n",
              " 'Rachel:',\n",
              " 'Monica:',\n",
              " 'Rachel:',\n",
              " 'Monica:',\n",
              " 'Rachel:',\n",
              " 'Monica:',\n",
              " 'Rachel:',\n",
              " 'Scene:',\n",
              " 'Frannie:',\n",
              " 'Monica:',\n",
              " 'Frannie:',\n",
              " 'Monica:',\n",
              " 'Frannie:',\n",
              " 'Monica:',\n",
              " 'Frannie:',\n",
              " 'Monica:',\n",
              " 'Frannie:',\n",
              " 'Scene:',\n",
              " 'Joey:',\n",
              " 'Monica:',\n",
              " 'Ross:',\n",
              " 'Monica:',\n",
              " 'Phoebe:',\n",
              " 'Monica:',\n",
              " 'Phoebe:',\n",
              " 'Monica:',\n",
              " 'Joey:',\n",
              " 'Rachel:',\n",
              " 'Ross:',\n",
              " 'Rachel:',\n",
              " 'Chandler:',\n",
              " 'Rachel:',\n",
              " 'Chandler:',\n",
              " 'Rachel:',\n",
              " 'Monica:',\n",
              " 'Rachel:',\n",
              " 'Monica:',\n",
              " 'Rachel:',\n",
              " 'Scene:',\n",
              " 'Rachel:',\n",
              " 'Monica:',\n",
              " 'Rachel:',\n",
              " 'Phoebe:',\n",
              " 'Rachel:',\n",
              " 'Phoebe:',\n",
              " 'Ross:',\n",
              " 'Monica:',\n",
              " 'Rachel:',\n",
              " 'Monica:',\n",
              " 'Rachel:',\n",
              " 'Ross:',\n",
              " 'Ross:',\n",
              " 'All:',\n",
              " 'Rachel:',\n",
              " 'Monica:',\n",
              " 'All:',\n",
              " 'Chandler:',\n",
              " 'Monica:',\n",
              " 'Monica:',\n",
              " 'Ross:',\n",
              " 'Monica:',\n",
              " 'Ross:',\n",
              " 'Rachel:',\n",
              " 'Monica:',\n",
              " 'Rachel:',\n",
              " 'Ross:',\n",
              " 'Rachel:',\n",
              " 'Ross:',\n",
              " 'Rachel:',\n",
              " 'Ross:',\n",
              " 'Rachel:',\n",
              " 'Ross:',\n",
              " 'Rachel:',\n",
              " 'Ross:',\n",
              " 'Rachel:',\n",
              " 'Ross:',\n",
              " 'Rachel:',\n",
              " 'Ross:',\n",
              " 'Rachel:',\n",
              " 'Ross:',\n",
              " 'Monica:',\n",
              " 'Ross:',\n",
              " 'Scene:',\n",
              " 'Joey:',\n",
              " 'Phoebe:',\n",
              " 'Monica:',\n",
              " 'Phoebe:',\n",
              " 'Monica:',\n",
              " 'Phoebe:',\n",
              " 'All:',\n",
              " 'Monica:',\n",
              " 'Joey:',\n",
              " 'Ross:',\n",
              " 'Rachel:',\n",
              " 'Chandler:',\n",
              " 'Rachel:',\n",
              " 'All:',\n",
              " 'Chandler:',\n",
              " 'Customer:',\n",
              " 'Rachel:',\n",
              " 'Chandler:']"
            ]
          },
          "metadata": {},
          "execution_count": 34
        }
      ]
    },
    {
      "cell_type": "code",
      "source": [
        "a = [1,2,3,4,5,2,2,]"
      ],
      "metadata": {
        "id": "Jzf--wJvx81X"
      },
      "execution_count": 35,
      "outputs": []
    },
    {
      "cell_type": "code",
      "source": [
        "set(a)"
      ],
      "metadata": {
        "colab": {
          "base_uri": "https://localhost:8080/"
        },
        "id": "qxddIVl3yJC3",
        "outputId": "00fb21a7-511d-49df-b394-0515dfdb0567"
      },
      "execution_count": 36,
      "outputs": [
        {
          "output_type": "execute_result",
          "data": {
            "text/plain": [
              "{1, 2, 3, 4, 5}"
            ]
          },
          "metadata": {},
          "execution_count": 36
        }
      ]
    },
    {
      "cell_type": "code",
      "source": [
        "set(re.findall(char, script101))"
      ],
      "metadata": {
        "colab": {
          "base_uri": "https://localhost:8080/"
        },
        "id": "H6l5zDOOyJm-",
        "outputId": "d368ae3e-1736-4b4b-e917-8c74bda29faa"
      },
      "execution_count": 37,
      "outputs": [
        {
          "output_type": "execute_result",
          "data": {
            "text/plain": [
              "{'All:',\n",
              " 'Chandler:',\n",
              " 'Customer:',\n",
              " 'Frannie:',\n",
              " 'Joey:',\n",
              " 'Monica:',\n",
              " 'Note:',\n",
              " 'Paul:',\n",
              " 'Phoebe:',\n",
              " 'Rachel:',\n",
              " 'Ross:',\n",
              " 'Scene:',\n",
              " 'Waitress:'}"
            ]
          },
          "metadata": {},
          "execution_count": 37
        }
      ]
    },
    {
      "cell_type": "code",
      "source": [
        "rachel = 'Rachel:'"
      ],
      "metadata": {
        "id": "fr_8uam_yMfQ"
      },
      "execution_count": 38,
      "outputs": []
    },
    {
      "cell_type": "code",
      "source": [
        "rachel = re.sub(':', '', rachel)"
      ],
      "metadata": {
        "id": "i8jfKSOFySwB"
      },
      "execution_count": 39,
      "outputs": []
    },
    {
      "cell_type": "code",
      "source": [
        "rachel"
      ],
      "metadata": {
        "colab": {
          "base_uri": "https://localhost:8080/",
          "height": 35
        },
        "id": "TuYQ1EJ-yVoS",
        "outputId": "faac1f6e-f0cf-47b2-e3f8-227a78c3c6a2"
      },
      "execution_count": 40,
      "outputs": [
        {
          "output_type": "execute_result",
          "data": {
            "text/plain": [
              "'Rachel'"
            ],
            "application/vnd.google.colaboratory.intrinsic+json": {
              "type": "string"
            }
          },
          "metadata": {},
          "execution_count": 40
        }
      ]
    },
    {
      "cell_type": "code",
      "source": [
        "rachel[:-1]"
      ],
      "metadata": {
        "colab": {
          "base_uri": "https://localhost:8080/",
          "height": 35
        },
        "id": "WUwayK1zyWaa",
        "outputId": "06e7175a-cabd-4276-f921-2923999e3fa9"
      },
      "execution_count": 41,
      "outputs": [
        {
          "output_type": "execute_result",
          "data": {
            "text/plain": [
              "'Rache'"
            ],
            "application/vnd.google.colaboratory.intrinsic+json": {
              "type": "string"
            }
          },
          "metadata": {},
          "execution_count": 41
        }
      ]
    },
    {
      "cell_type": "code",
      "source": [
        "y = set(re.findall(char, script101)) # 등장인물 리스트를 집합으로 바꿔 y 객체에 저장\n",
        "z = list(y) # for 문에 사용하기 위해서 다시 리스트로 바꾼다\n",
        "character = [] # 등장인물 리스트를 새로 담을 객체 character를 만든다\n",
        "for i in z:\n",
        "  character += [i[:-1]]"
      ],
      "metadata": {
        "id": "0uG4qS5jyX9v"
      },
      "execution_count": 42,
      "outputs": []
    },
    {
      "cell_type": "code",
      "source": [
        "character"
      ],
      "metadata": {
        "colab": {
          "base_uri": "https://localhost:8080/"
        },
        "id": "8els_mVAy1Yv",
        "outputId": "d0f945ba-a35d-49dc-c4a3-423e6e7e14e8"
      },
      "execution_count": 43,
      "outputs": [
        {
          "output_type": "execute_result",
          "data": {
            "text/plain": [
              "['Frannie',\n",
              " 'Scene',\n",
              " 'Waitress',\n",
              " 'Note',\n",
              " 'Joey',\n",
              " 'Monica',\n",
              " 'All',\n",
              " 'Phoebe',\n",
              " 'Rachel',\n",
              " 'Customer',\n",
              " 'Ross',\n",
              " 'Chandler',\n",
              " 'Paul']"
            ]
          },
          "metadata": {},
          "execution_count": 43
        }
      ]
    },
    {
      "cell_type": "code",
      "source": [
        "character = [x[:-1] for x in list(set(re.findall(r'[A-Z][a-z]+:', script101)))]\n",
        "character"
      ],
      "metadata": {
        "colab": {
          "base_uri": "https://localhost:8080/"
        },
        "id": "uKpcZj2_y2M5",
        "outputId": "5a05f8c7-83d7-4db6-dc81-b9efcfdecf38"
      },
      "execution_count": 44,
      "outputs": [
        {
          "output_type": "execute_result",
          "data": {
            "text/plain": [
              "['Frannie',\n",
              " 'Scene',\n",
              " 'Waitress',\n",
              " 'Note',\n",
              " 'Joey',\n",
              " 'Monica',\n",
              " 'All',\n",
              " 'Phoebe',\n",
              " 'Rachel',\n",
              " 'Customer',\n",
              " 'Ross',\n",
              " 'Chandler',\n",
              " 'Paul']"
            ]
          },
          "metadata": {},
          "execution_count": 44
        }
      ]
    },
    {
      "cell_type": "code",
      "source": [
        "re.findall(r'\\([A-Za-z].+[a-z|\\.]\\)', script101)[:6]"
      ],
      "metadata": {
        "colab": {
          "base_uri": "https://localhost:8080/"
        },
        "id": "dt1pzFqPzFfU",
        "outputId": "dfeddcd2-8663-4061-f484-ceb8a49c6d79"
      },
      "execution_count": 45,
      "outputs": [
        {
          "output_type": "execute_result",
          "data": {
            "text/plain": [
              "['(The Pilot-The Uncut Version)',\n",
              " '(Note: The previously unseen parts of this episode are shown in blue text.)',\n",
              " '(They all stare, bemused.)',\n",
              " '(mortified)',\n",
              " '(explaining to the others)',\n",
              " '(to Ross)']"
            ]
          },
          "metadata": {},
          "execution_count": 45
        }
      ]
    },
    {
      "cell_type": "code",
      "source": [],
      "metadata": {
        "id": "uL5S_z-bzx5Q"
      },
      "execution_count": null,
      "outputs": []
    }
  ]
}
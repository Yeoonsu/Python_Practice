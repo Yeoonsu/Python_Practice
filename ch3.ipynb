{
  "nbformat": 4,
  "nbformat_minor": 0,
  "metadata": {
    "colab": {
      "provenance": [],
      "authorship_tag": "ABX9TyNbROJj5yFA2kIK5ptbJghc"
    },
    "kernelspec": {
      "name": "python3",
      "display_name": "Python 3"
    },
    "language_info": {
      "name": "python"
    }
  },
  "cells": [
    {
      "cell_type": "code",
      "execution_count": 15,
      "metadata": {
        "id": "nBOcizrwF64j"
      },
      "outputs": [],
      "source": [
        "import os, re"
      ]
    },
    {
      "cell_type": "code",
      "source": [
        "sentence = 'I have a lovely dog, really. I am not telling a lie. what a pretty dog! I love this dog'"
      ],
      "metadata": {
        "id": "1Q628QMBF975"
      },
      "execution_count": 2,
      "outputs": []
    },
    {
      "cell_type": "code",
      "source": [
        "re.split(r'[.?!]', sentence)"
      ],
      "metadata": {
        "colab": {
          "base_uri": "https://localhost:8080/"
        },
        "id": "4fr3WelEGUIy",
        "outputId": "5e74d5a2-537f-4dda-b861-ceb4727539c8"
      },
      "execution_count": 3,
      "outputs": [
        {
          "output_type": "execute_result",
          "data": {
            "text/plain": [
              "['I have a lovely dog, really',\n",
              " ' I am not telling a lie',\n",
              " ' what a pretty dog',\n",
              " ' I love this dog']"
            ]
          },
          "metadata": {},
          "execution_count": 3
        }
      ]
    },
    {
      "cell_type": "code",
      "source": [
        "data = 'a:3; b:4; c:5'"
      ],
      "metadata": {
        "id": "C8TfMl98GXDt"
      },
      "execution_count": 4,
      "outputs": []
    },
    {
      "cell_type": "code",
      "source": [
        "for i in re.split(r';', data): #먼저 세미콜론(;)으로 전체 데이터를 한 번 구분합니다\n",
        "  print(re.split(r':', i)) # 나눠진 데이터를 다시 콜론(:)을 기준으로 나눕니다"
      ],
      "metadata": {
        "colab": {
          "base_uri": "https://localhost:8080/"
        },
        "id": "CluFQ20SGvuA",
        "outputId": "e46aee63-e046-48a4-93d9-f64c8d42b830"
      },
      "execution_count": 5,
      "outputs": [
        {
          "output_type": "stream",
          "name": "stdout",
          "text": [
            "['a', '3']\n",
            "[' b', '4']\n",
            "[' c', '5']\n"
          ]
        }
      ]
    },
    {
      "cell_type": "code",
      "source": [
        "sentence = 'I have a lovely dog, really. I am not telling a lie. What a pretty dog! I love this dog.'"
      ],
      "metadata": {
        "id": "R1c5zw1vG6AL"
      },
      "execution_count": 6,
      "outputs": []
    },
    {
      "cell_type": "code",
      "source": [
        "re.sub(r'dog', 'cat', sentence) # sentence라는 문자열에서 'dog를 'cat'으로 바꾸세요"
      ],
      "metadata": {
        "colab": {
          "base_uri": "https://localhost:8080/",
          "height": 35
        },
        "id": "qCrzu5zVHUj6",
        "outputId": "a556992b-9db5-4ea9-8443-8759c99c7ade"
      },
      "execution_count": 7,
      "outputs": [
        {
          "output_type": "execute_result",
          "data": {
            "text/plain": [
              "'I have a lovely cat, really. I am not telling a lie. What a pretty cat! I love this cat.'"
            ],
            "application/vnd.google.colaboratory.intrinsic+json": {
              "type": "string"
            }
          },
          "metadata": {},
          "execution_count": 7
        }
      ]
    },
    {
      "cell_type": "code",
      "source": [
        "words = 'I am home now. \\n\\n\\nI am with my cat.\\n\\n' # '\\n'은 줄바꿈 문자입니다\n",
        "print(words)"
      ],
      "metadata": {
        "colab": {
          "base_uri": "https://localhost:8080/"
        },
        "id": "TenMxrvvHdpN",
        "outputId": "f9a86ac1-7f77-4cda-9ecd-d256b4721070"
      },
      "execution_count": 8,
      "outputs": [
        {
          "output_type": "stream",
          "name": "stdout",
          "text": [
            "I am home now. \n",
            "\n",
            "\n",
            "I am with my cat.\n",
            "\n",
            "\n"
          ]
        }
      ]
    },
    {
      "cell_type": "code",
      "source": [
        "re.sub(r'\\n', '', words) # '\\n'은 줄바꿈 문자이다. sub로 불필요한 공백을 삭제할 수 있다."
      ],
      "metadata": {
        "colab": {
          "base_uri": "https://localhost:8080/",
          "height": 35
        },
        "id": "VL767pbrHrlW",
        "outputId": "d99de4db-f0cc-4cd7-d816-5188ea9f5be3"
      },
      "execution_count": 9,
      "outputs": [
        {
          "output_type": "execute_result",
          "data": {
            "text/plain": [
              "'I am home now. I am with my cat.'"
            ],
            "application/vnd.google.colaboratory.intrinsic+json": {
              "type": "string"
            }
          },
          "metadata": {},
          "execution_count": 9
        }
      ]
    },
    {
      "cell_type": "code",
      "source": [
        "# sub는 이렇게 문자열에서 불필요한 내용을 깔끔하게 정리할 때 유용하게 사용할 수 있다."
      ],
      "metadata": {
        "id": "fhTqcHlbHzan"
      },
      "execution_count": 10,
      "outputs": []
    },
    {
      "cell_type": "code",
      "source": [
        "# 'ly'로 끝나는 단어 추출하기"
      ],
      "metadata": {
        "id": "tXDXjfl0IdQ6"
      },
      "execution_count": 11,
      "outputs": []
    },
    {
      "cell_type": "code",
      "source": [
        "sentence = 'I have a lovely dog, really. I am not telling a lie'"
      ],
      "metadata": {
        "id": "vGfELYe5Ifq8"
      },
      "execution_count": 12,
      "outputs": []
    },
    {
      "cell_type": "code",
      "source": [
        "re.findall(r'\\w+ly', sentence)\n",
        "# r'\\w+ly'는 문자나 숫자(\\w)가 몇 번이 나와도 좋으니 반복하고(+), ly로 끝나는 패턴을 의미합니다"
      ],
      "metadata": {
        "colab": {
          "base_uri": "https://localhost:8080/"
        },
        "id": "kaTsVnvDIjZC",
        "outputId": "3bcdef08-3aca-46d5-afea-a74e30caefa4"
      },
      "execution_count": 13,
      "outputs": [
        {
          "output_type": "execute_result",
          "data": {
            "text/plain": [
              "['lovely', 'really']"
            ]
          },
          "metadata": {},
          "execution_count": 13
        }
      ]
    },
    {
      "cell_type": "code",
      "source": [
        "# lovely와 really가 정상적으로 리스트로 반환되었습니다"
      ],
      "metadata": {
        "id": "ZQZT55j0JVvY"
      },
      "execution_count": 14,
      "outputs": []
    },
    {
      "cell_type": "markdown",
      "source": [
        "03-3 드라마 대본 텍스트 파일 가공하기"
      ],
      "metadata": {
        "id": "NeNG600QJbEx"
      }
    },
    {
      "cell_type": "markdown",
      "source": [
        "os.chdir(r'C:\\Users\\user\\python') # friends101.txt 파일을 저장한 폴더로 이동합니다"
      ],
      "metadata": {
        "id": "14jie5uNK6Mk"
      }
    },
    {
      "cell_type": "code",
      "source": [
        "f = open('friends101.txt', 'r', encoding='utf8')"
      ],
      "metadata": {
        "id": "mgEFAotBJY_p"
      },
      "execution_count": 17,
      "outputs": []
    },
    {
      "cell_type": "code",
      "source": [
        "script101 = f.read()"
      ],
      "metadata": {
        "id": "Uxqr3dYuLDPY"
      },
      "execution_count": 18,
      "outputs": []
    },
    {
      "cell_type": "code",
      "source": [
        "print(script101[:100]) # 텍스트 파일에 이상이 없는지 슬라이싱해서 출력"
      ],
      "metadata": {
        "colab": {
          "base_uri": "https://localhost:8080/"
        },
        "id": "BhY5rU0eLN1c",
        "outputId": "6330afc8-2261-4513-aa40-09b551ae4884"
      },
      "execution_count": 19,
      "outputs": [
        {
          "output_type": "stream",
          "name": "stdout",
          "text": [
            "The One Where Monica Gets a New Roommate (The Pilot-The Uncut Version)\n",
            "Written by: Marta Kauffman & \n"
          ]
        }
      ]
    },
    {
      "cell_type": "code",
      "source": [
        "# 특정 등장인물의 대사만 모으기\n",
        "Line = re.findall(r'Monica:.+', script101)\n",
        "# 'Monica:' 다음 아무 문자나 반복되는(.+) 패턴을 script101에서 찾아 리스트로 반환합니다"
      ],
      "metadata": {
        "id": "8q6pocj6LTWH"
      },
      "execution_count": 22,
      "outputs": []
    },
    {
      "cell_type": "code",
      "source": [
        "print(Line[:3]) # 리스트로 저장할 때"
      ],
      "metadata": {
        "colab": {
          "base_uri": "https://localhost:8080/"
        },
        "id": "79lv9uTEMN0l",
        "outputId": "1efeb972-a7fd-4f55-c49e-4f917a3c2777"
      },
      "execution_count": 23,
      "outputs": [
        {
          "output_type": "stream",
          "name": "stdout",
          "text": [
            "[\"Monica: There's nothing to tell! He's just some guy I work with!\", \"Monica: Okay, everybody relax. This is not even a date. It's just two people going out to dinner and- not having sex.\", \"Monica: And they weren't looking at you before?!\"]\n"
          ]
        }
      ]
    },
    {
      "cell_type": "code",
      "source": [
        "for item in Line[:3]:\n",
        "  print(item)\n",
        "  # 결괏값을 보기 위해서 출력할 때 for문 사용"
      ],
      "metadata": {
        "colab": {
          "base_uri": "https://localhost:8080/"
        },
        "id": "4DJWsrNFMT5D",
        "outputId": "83a4f50e-561d-4c73-da42-fbe8dc24f40a"
      },
      "execution_count": 24,
      "outputs": [
        {
          "output_type": "stream",
          "name": "stdout",
          "text": [
            "Monica: There's nothing to tell! He's just some guy I work with!\n",
            "Monica: Okay, everybody relax. This is not even a date. It's just two people going out to dinner and- not having sex.\n",
            "Monica: And they weren't looking at you before?!\n"
          ]
        }
      ]
    },
    {
      "cell_type": "code",
      "source": [
        "f.close()"
      ],
      "metadata": {
        "id": "6QdolfsMMvN_"
      },
      "execution_count": 25,
      "outputs": []
    },
    {
      "cell_type": "code",
      "source": [
        "f = open('monica.txt', 'w', encoding = 'utf8')\n",
        "# 한국어가 포함되어 있을 경우에 발생할 수 있는 오류를 방지하기 위해 encoding = 'utf8'은 붙여줍니다"
      ],
      "metadata": {
        "id": "Pbtl67IyNj3X"
      },
      "execution_count": 26,
      "outputs": []
    },
    {
      "cell_type": "code",
      "source": [
        "monica = ''"
      ],
      "metadata": {
        "id": "omxU0B-MNp3h"
      },
      "execution_count": 27,
      "outputs": []
    },
    {
      "cell_type": "code",
      "source": [
        "for i in Line:\n",
        "  monica += i # Line 리스트의 원소를 monica 문자열에 추가합니다"
      ],
      "metadata": {
        "id": "XfWpAORxOEdj"
      },
      "execution_count": 29,
      "outputs": []
    },
    {
      "cell_type": "code",
      "source": [
        "f.write(monica)"
      ],
      "metadata": {
        "colab": {
          "base_uri": "https://localhost:8080/"
        },
        "id": "uUl8OgOfOgCT",
        "outputId": "7eb34bde-afae-4bc0-8896-3f27a6887812"
      },
      "execution_count": 30,
      "outputs": [
        {
          "output_type": "execute_result",
          "data": {
            "text/plain": [
              "4542"
            ]
          },
          "metadata": {},
          "execution_count": 30
        }
      ]
    },
    {
      "cell_type": "code",
      "source": [
        "# 파일에 쓴 문자 개수가 출력됩니다"
      ],
      "metadata": {
        "id": "xD7Y_O93OwAb"
      },
      "execution_count": 31,
      "outputs": []
    },
    {
      "cell_type": "code",
      "source": [
        "f.close() # 작업이 끝났으면 파일을 닫는 것 잊지 마세요"
      ],
      "metadata": {
        "id": "_Db_YVPkO0fM"
      },
      "execution_count": 32,
      "outputs": []
    },
    {
      "cell_type": "code",
      "source": [],
      "metadata": {
        "id": "DnjEKszkO_WI"
      },
      "execution_count": null,
      "outputs": []
    }
  ]
}
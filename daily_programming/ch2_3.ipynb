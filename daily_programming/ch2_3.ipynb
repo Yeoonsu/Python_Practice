{
  "nbformat": 4,
  "nbformat_minor": 0,
  "metadata": {
    "colab": {
      "provenance": [],
      "collapsed_sections": [],
      "authorship_tag": "ABX9TyO5HWfXEcaceXwu6LliUTXB"
    },
    "kernelspec": {
      "name": "python3",
      "display_name": "Python 3"
    },
    "language_info": {
      "name": "python"
    }
  },
  "cells": [
    {
      "cell_type": "code",
      "execution_count": 16,
      "metadata": {
        "colab": {
          "base_uri": "https://localhost:8080/"
        },
        "id": "EHUwrUxoXGKc",
        "outputId": "dad65215-3e56-418e-928e-a136d17d646c"
      },
      "outputs": [
        {
          "output_type": "stream",
          "name": "stdout",
          "text": [
            "<class 'int'>5\n",
            "     ****     \n",
            "<class 'int'>4\n",
            "    ***    \n",
            "<class 'int'>3\n",
            "   **   \n",
            "<class 'int'>2\n",
            "  *  \n",
            "<class 'int'>1\n",
            "  \n"
          ]
        }
      ],
      "source": [
        "for a in range(0,int(a)):\n",
        "  a = input(int)\n",
        "  j = int(a)-1\n",
        "  print(' '*int(a) + '*'*int(j) + ' '*int(a))\n",
        "  a = int(a)-1\n"
      ]
    },
    {
      "cell_type": "code",
      "source": [
        "def calculator(a, b):\n",
        "  return a+b, a-b, a*b, a/b"
      ],
      "metadata": {
        "id": "zj5B8C0cXGms"
      },
      "execution_count": 17,
      "outputs": []
    },
    {
      "cell_type": "code",
      "source": [
        "price = [23, 40, 67]"
      ],
      "metadata": {
        "id": "MvaNjII5vJFl"
      },
      "execution_count": 19,
      "outputs": []
    },
    {
      "cell_type": "code",
      "source": [
        "def service_price():\n",
        "  service = input('서비스 종류를 입력하세요, a/b/c: ')\n",
        "  valueAdded = input('부가세를 포함합니가? y/n: ')\n",
        "  if valueAdded == 'y':\n",
        "    if service == 'a':\n",
        "      result = 23 * 1.1\n",
        "    if service == 'b':\n",
        "      result = 40 * 1.1\n",
        "    if service == 'c':\n",
        "      result = 67*1.1\n",
        "  if valueAdded = 'n':\n",
        "      if service == 'a':\n",
        "        result = 23\n",
        "      if service == 'b':\n",
        "        result = 40\n",
        "      if service == 'c':\n",
        "        result = 67\n",
        "  print(round(result, 1), '만 원입니다')\n"
      ],
      "metadata": {
        "id": "EPGzB43YtVYG"
      },
      "execution_count": null,
      "outputs": []
    },
    {
      "cell_type": "code",
      "source": [
        "# 반환과 출력의 차이\n",
        "def addPrint(a, b):\n",
        "  print(a + b)\n",
        "\n",
        "def addReturn(a, b):\n",
        "  return a + b\n"
      ],
      "metadata": {
        "id": "59pXgFSuwETn"
      },
      "execution_count": 20,
      "outputs": []
    },
    {
      "cell_type": "code",
      "source": [
        "addPrint(1, 2)"
      ],
      "metadata": {
        "colab": {
          "base_uri": "https://localhost:8080/"
        },
        "id": "qxmQiYsMwLTa",
        "outputId": "edf3dba3-270d-4a62-c499-68f02c641fcf"
      },
      "execution_count": 21,
      "outputs": [
        {
          "output_type": "stream",
          "name": "stdout",
          "text": [
            "3\n"
          ]
        }
      ]
    },
    {
      "cell_type": "code",
      "source": [
        "addReturn(1, 2)"
      ],
      "metadata": {
        "colab": {
          "base_uri": "https://localhost:8080/"
        },
        "id": "IThBkUnWwMfY",
        "outputId": "178914b2-43ff-4fbb-9506-16ab8de2302c"
      },
      "execution_count": 22,
      "outputs": [
        {
          "output_type": "execute_result",
          "data": {
            "text/plain": [
              "3"
            ]
          },
          "metadata": {},
          "execution_count": 22
        }
      ]
    },
    {
      "cell_type": "code",
      "source": [
        "print('The result is', addPrint(1, 2)) # 문장이 제대로 출력되지 않음"
      ],
      "metadata": {
        "colab": {
          "base_uri": "https://localhost:8080/"
        },
        "id": "3YcoSjRPwNq5",
        "outputId": "eec14f8d-6850-4d7d-c847-82ea031c091f"
      },
      "execution_count": 23,
      "outputs": [
        {
          "output_type": "stream",
          "name": "stdout",
          "text": [
            "3\n",
            "The result is None\n"
          ]
        }
      ]
    },
    {
      "cell_type": "code",
      "source": [
        "print('The result is', addReturn(1, 2)) # 문장이 제대로 출력됨\n",
        "\n",
        "# print() 함수는 결괏값을 화면에 출력할 뿐 저장하지 않는다\n",
        "# return은 결괏값을 함수의 결과물로 반환하기 때문에 다른 곳에 활용할 수 있다\n",
        "# 즉, 파이썬에서 반환(return)은 최종 결과물을 도출하여 저장한다는 의미다"
      ],
      "metadata": {
        "colab": {
          "base_uri": "https://localhost:8080/"
        },
        "id": "apX2SNaAwQTM",
        "outputId": "72a55cfd-2747-4497-c2ed-11dde48a3db0"
      },
      "execution_count": 24,
      "outputs": [
        {
          "output_type": "stream",
          "name": "stdout",
          "text": [
            "The result is 3\n"
          ]
        }
      ]
    },
    {
      "cell_type": "code",
      "source": [],
      "metadata": {
        "id": "o7cNNT4-wWi7"
      },
      "execution_count": null,
      "outputs": []
    }
  ]
}

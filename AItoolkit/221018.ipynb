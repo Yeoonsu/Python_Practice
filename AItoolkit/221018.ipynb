{
 "cells": [
  {
   "cell_type": "code",
   "execution_count": null,
   "metadata": {},
   "outputs": [],
   "source": [
    "# 1) Basics of Python\n",
    "# python tutorial 기반으로 교안 제작하심\n",
    "# 객체지향 프로그래밍이 학생들에게 권장된다\n",
    "\n",
    "# 18/5 <- python2와 다르게 python3에서는 자동으로 float로 바뀜\n",
    "\n",
    "for epoch in range(1000):\n",
    "    if (epoch+1) % 100 == 0:\n",
    "        print(\"[Epoch {} save the model]\".format(epoch+1))\n",
    "\n",
    "\n",
    "print(curr_str.split('/')[-1]) <- 디렉터리 마지막에 py 파일 이름만 추출할 수 있음\n",
    "\n",
    "\n",
    "deep_learning_tools = {k: v for k, v in zip(company, tool)} # company랑 tool 리스트가 인덱스 순서로 zip\n",
    "\n",
    "\n"
   ]
  }
 ],
 "metadata": {
  "kernelspec": {
   "display_name": "Python 3.10.8 64-bit (microsoft store)",
   "language": "python",
   "name": "python3"
  },
  "language_info": {
   "name": "python",
   "version": "3.10.8"
  },
  "orig_nbformat": 4,
  "vscode": {
   "interpreter": {
    "hash": "757aa4992fb8ed25d3a96931c0ea3cbac88aa5e1f2d55e5c1a4c08013c8200eb"
   }
  }
 },
 "nbformat": 4,
 "nbformat_minor": 2
}

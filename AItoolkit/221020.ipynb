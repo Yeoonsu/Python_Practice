{
 "cells": [
  {
   "cell_type": "code",
   "execution_count": null,
   "metadata": {},
   "outputs": [],
   "source": [
    "# basics of python\n",
    "\n",
    "# function definition ... fibonacci"
   ]
  },
  {
   "cell_type": "code",
   "execution_count": 2,
   "metadata": {},
   "outputs": [
    {
     "name": "stdout",
     "output_type": "stream",
     "text": [
      "1.23.4\n"
     ]
    }
   ],
   "source": [
    "# basics of numpy\n",
    "# 텐서 사용할 때 파이토치 좋다~ 넘파이도 좋다~\n",
    "import numpy as np\n",
    "print(np.__version__)"
   ]
  },
  {
   "cell_type": "code",
   "execution_count": null,
   "metadata": {},
   "outputs": [],
   "source": [
    "# why we need numpy array?\n",
    "# 리스트는 덧셈하면 걍 위치에 따라 더해주는데(just concatenate list) 넘파이는 행렬 더해줌, 브로드캐스팅도 가능함\n",
    "# 곱셈이 element wise multiplication은 아니지만 index based 계산은 해줌\n",
    "# 행렬 곱셈해주려면 .matmul() 함수를 사용해줘야함 .T는 transpose"
   ]
  }
 ],
 "metadata": {
  "kernelspec": {
   "display_name": "Python 3.10.8 64-bit (microsoft store)",
   "language": "python",
   "name": "python3"
  },
  "language_info": {
   "codemirror_mode": {
    "name": "ipython",
    "version": 3
   },
   "file_extension": ".py",
   "mimetype": "text/x-python",
   "name": "python",
   "nbconvert_exporter": "python",
   "pygments_lexer": "ipython3",
   "version": "3.10.8"
  },
  "orig_nbformat": 4,
  "vscode": {
   "interpreter": {
    "hash": "757aa4992fb8ed25d3a96931c0ea3cbac88aa5e1f2d55e5c1a4c08013c8200eb"
   }
  }
 },
 "nbformat": 4,
 "nbformat_minor": 2
}

{
  "nbformat": 4,
  "nbformat_minor": 0,
  "metadata": {
    "colab": {
      "provenance": [],
      "authorship_tag": "ABX9TyNt7HLUoeAbtENlzeoJj7su"
    },
    "kernelspec": {
      "name": "python3",
      "display_name": "Python 3"
    },
    "language_info": {
      "name": "python"
    }
  },
  "cells": [
    {
      "cell_type": "code",
      "execution_count": 1,
      "metadata": {
        "colab": {
          "base_uri": "https://localhost:8080/"
        },
        "id": "dcY7mg9ZaYYi",
        "outputId": "833677fc-e770-4771-bfc3-779d9e8eebd5"
      },
      "outputs": [
        {
          "output_type": "stream",
          "name": "stdout",
          "text": [
            "1번째 인사\n",
            "2번째 인사\n",
            "3번째 인사\n",
            "4번째 인사\n",
            "5번째 인사\n",
            "6번째 인사\n",
            "7번째 인사\n",
            "8번째 인사\n",
            "9번째 인사\n",
            "10번째 인사\n"
          ]
        }
      ],
      "source": [
        "for i in range(1, 11):\n",
        "  print(str(i) + '번째 인사')"
      ]
    },
    {
      "cell_type": "code",
      "source": [],
      "metadata": {
        "id": "uWmd82LrcJGM"
      },
      "execution_count": null,
      "outputs": []
    }
  ]
}
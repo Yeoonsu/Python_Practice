{
  "nbformat": 4,
  "nbformat_minor": 0,
  "metadata": {
    "colab": {
      "provenance": [],
      "authorship_tag": "ABX9TyNcGnf0RSiKIaGKNB5zYmA3"
    },
    "kernelspec": {
      "name": "python3",
      "display_name": "Python 3"
    },
    "language_info": {
      "name": "python"
    }
  },
  "cells": [
    {
      "cell_type": "code",
      "execution_count": null,
      "metadata": {
        "id": "OUo3oOWlA-dA"
      },
      "outputs": [],
      "source": [
        "# csv 파일 불러올때 리스트 형태로 저장하는 간편한 함수\n",
        "\n",
        "def opencsv(filename):  # 파일을 열 때는 opencsv('test.csv') 라고 써야합니다.\n",
        "  f = open(filename, 'r')\n",
        "  reader = csv.reader(f)\n",
        "  output = []\n",
        "  for i in reader:\n",
        "      output.append(i)\n",
        "  return output\n",
        "  f.close()"
      ]
    },
    {
      "cell_type": "code",
      "source": [
        "# 파일 쓰기 함수\n",
        "\n",
        "def writecsv(filename, the_list):\n",
        "  # 첫 번째 변수는 만들 파일 이름이고, 두 번째 변수는 CSV형 리스트를 저장한 객체입니다.\n",
        "  with open(filename, 'w', newline='') as f:\n",
        "    # 파일을 바로 닫기 위해 with 문을 사용합니다\n",
        "    "
      ],
      "metadata": {
        "id": "gjLTkUv6N0a1"
      },
      "execution_count": null,
      "outputs": []
    }
  ]
}
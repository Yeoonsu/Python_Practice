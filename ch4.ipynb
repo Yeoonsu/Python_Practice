{
  "nbformat": 4,
  "nbformat_minor": 0,
  "metadata": {
    "colab": {
      "provenance": [],
      "authorship_tag": "ABX9TyNJrZzm10QuJAaZVGo+L9AV"
    },
    "kernelspec": {
      "name": "python3",
      "display_name": "Python 3"
    },
    "language_info": {
      "name": "python"
    }
  },
  "cells": [
    {
      "cell_type": "code",
      "execution_count": null,
      "metadata": {
        "id": "OUo3oOWlA-dA"
      },
      "outputs": [],
      "source": [
        "# csv 파일 불러올때 리스트 형태로 저장하는 간편한 함수\n",
        "\n",
        "def opencsv(filename):  # 파일을 열 때는 opencsv('test.csv') 라고 써야합니다.\n",
        "  f = open(filename, 'r')\n",
        "  reader = csv.reader(f)\n",
        "  output = []\n",
        "  for i in reader:\n",
        "      output.append(i)\n",
        "  return output\n",
        "  f.close()"
      ]
    }
  ]
}